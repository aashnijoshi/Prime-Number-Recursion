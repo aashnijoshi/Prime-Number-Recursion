{
  "nbformat": 4,
  "nbformat_minor": 0,
  "metadata": {
    "colab": {
      "name": "Prime-Number-Recursion.ipynb",
      "provenance": [],
      "authorship_tag": "ABX9TyNqUGoAkfNDWmCehw1uIcuA",
      "include_colab_link": true
    },
    "kernelspec": {
      "name": "python3",
      "display_name": "Python 3"
    },
    "language_info": {
      "name": "python"
    }
  },
  "cells": [
    {
      "cell_type": "markdown",
      "metadata": {
        "id": "view-in-github",
        "colab_type": "text"
      },
      "source": [
        "<a href=\"https://colab.research.google.com/github/aashnijoshi/Prime-Number-Recursion/blob/main/Prime_Number_Recursion.ipynb\" target=\"_parent\"><img src=\"https://colab.research.google.com/assets/colab-badge.svg\" alt=\"Open In Colab\"/></a>"
      ]
    },
    {
      "cell_type": "code",
      "execution_count": null,
      "metadata": {
        "id": "Y2E0X5zK36hL"
      },
      "outputs": [],
      "source": [
        "\n",
        "#Using recursion to see if a given number is a prime number or not\n",
        "#The goal of this program is to further comprehend the complex process of Recursion in python\n",
        "\n",
        "#Inputting the number\n",
        "print(\"Please enter the number you want to check\")\n",
        "n=int(input())\n",
        "\n",
        "#'k' acts an indicator\n",
        "k=0\n",
        "i=2\n",
        "\n",
        "#Defining the function\n",
        "def isPrime(n,i):\n",
        "   global k\n",
        "   if i<n:\n",
        "       if n%i==0:\n",
        "           k+=1     #Incrementing 'k' to indicate that it's not a prime number\n",
        "           return k\n",
        "       else:\n",
        "          #Calling the function inside the same function in order to recurse\n",
        "           isPrime(n,i+1)\n",
        "           \n",
        "isPrime(n,i)                      \n",
        "if k==0:\n",
        "    print(\"prime!\")\n",
        "else:\n",
        "    print(\"not prime:(\")\n",
        "    \n",
        "       \n",
        "        \n"
      ]
    }
  ]
}